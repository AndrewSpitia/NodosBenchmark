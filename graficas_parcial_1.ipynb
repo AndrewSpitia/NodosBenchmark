{
  "nbformat": 4,
  "nbformat_minor": 0,
  "metadata": {
    "colab": {
      "name": "graficas parcial 1.ipynb",
      "provenance": []
    },
    "kernelspec": {
      "name": "python3",
      "display_name": "Python 3"
    },
    "language_info": {
      "name": "python"
    }
  },
  "cells": [
    {
      "cell_type": "code",
      "source": [
        "from google.colab import auth\n",
        "auth.authenticate_user()\n",
        "import gspread\n",
        "from oauth2client.client import GoogleCredentials\n",
        "gc = gspread.authorize(GoogleCredentials.get_application_default())"
      ],
      "metadata": {
        "id": "E9k42AvMR5xk"
      },
      "execution_count": 7,
      "outputs": []
    },
    {
      "cell_type": "code",
      "source": [
        "import matplotlib.pyplot as plt\n",
        "import seaborn as sns\n"
      ],
      "metadata": {
        "id": "WBSB_Pr17VdS"
      },
      "execution_count": 11,
      "outputs": []
    },
    {
      "cell_type": "code",
      "source": [
        "sh = gc.open('prueba_comp_parallel')\n",
        "worksheet = gc.open('prueba_comp_parallel').sheet1\n",
        "rows = worksheet.get_all_values()"
      ],
      "metadata": {
        "id": "eJFGkvhkR8SB"
      },
      "execution_count": 8,
      "outputs": []
    },
    {
      "cell_type": "code",
      "source": [
        "import pandas as pd\n",
        "df = pd.DataFrame.from_records(rows, columns =['BenchMark', 'Método','Lenguaje','Carga','Promedio','Std'])\n",
        "df = df.drop([0],axis=0)\n"
      ],
      "metadata": {
        "id": "9mB4ZWwRTAPp"
      },
      "execution_count": 9,
      "outputs": []
    },
    {
      "cell_type": "code",
      "source": [
        "df['Carga'] = df['Carga'].astype('float64')\n",
        "df['Promedio'] = df['Promedio'].astype('float64')\n"
      ],
      "metadata": {
        "id": "QBxIpa-wBhBz"
      },
      "execution_count": 26,
      "outputs": []
    },
    {
      "cell_type": "code",
      "source": [
        "df.info()"
      ],
      "metadata": {
        "colab": {
          "base_uri": "https://localhost:8080/"
        },
        "id": "4klj3n7VTXkE",
        "outputId": "7a2daf05-b011-4247-8904-f2114f59685a"
      },
      "execution_count": 37,
      "outputs": [
        {
          "output_type": "stream",
          "name": "stdout",
          "text": [
            "<class 'pandas.core.frame.DataFrame'>\n",
            "Int64Index: 63 entries, 1 to 63\n",
            "Data columns (total 6 columns):\n",
            " #   Column     Non-Null Count  Dtype  \n",
            "---  ------     --------------  -----  \n",
            " 0   BenchMark  63 non-null     object \n",
            " 1   Método     63 non-null     object \n",
            " 2   Lenguaje   63 non-null     object \n",
            " 3   Carga      63 non-null     float64\n",
            " 4   Promedio   63 non-null     float64\n",
            " 5   Std        63 non-null     object \n",
            "dtypes: float64(2), object(4)\n",
            "memory usage: 5.5+ KB\n"
          ]
        }
      ]
    },
    {
      "cell_type": "code",
      "source": [
        "sns.catplot(data=df, kind='bar',x='Carga', y='Promedio', hue='BenchMark', aspect = 4)"
      ],
      "metadata": {
        "colab": {
          "base_uri": "https://localhost:8080/",
          "height": 326
        },
        "id": "STgZhgrcTYMX",
        "outputId": "afeaa0bf-4d19-44cc-c83c-d5939535d230"
      },
      "execution_count": 42,
      "outputs": [
        {
          "output_type": "execute_result",
          "data": {
            "text/plain": [
              "<seaborn.axisgrid.FacetGrid at 0x7fc3423f2e90>"
            ]
          },
          "metadata": {},
          "execution_count": 42
        },
        {
          "output_type": "display_data",
          "data": {
            "image/png": "[encoded data removed]",
            "text/plain": [
              "<Figure size 1503.88x360 with 1 Axes>"
            ]
          },
          "metadata": {
            "needs_background": "light"
          }
        }
      ]
    },
    {
      "cell_type": "code",
      "source": [
        ""
      ],
      "metadata": {
        "id": "lBe5abAJB83C"
      },
      "execution_count": null,
      "outputs": []
    }
  ]
}